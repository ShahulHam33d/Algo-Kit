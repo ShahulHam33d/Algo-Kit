{
 "cells": [
  {
   "cell_type": "markdown",
   "id": "ceaf1b1d",
   "metadata": {},
   "source": [
    "# Linear Regression using OLS"
   ]
  },
  {
   "cell_type": "markdown",
   "id": "8fae6ef1",
   "metadata": {},
   "source": [
    "# Formulae\n",
    "* slope-intercept form: \n",
    "### y = mx + b\n",
    "\n",
    "* Ordinary Least Square Formula to calculate OLS Coefficients 'm' and 'b' for the above equation\n",
    "### m = (mean(xy) - (mean(x) * mean(y)) )/ ( mean(x ** 2) - (mean(x)) ** 2 )\n",
    "### b = mean(y) - m * (mean(x))"
   ]
  },
  {
   "cell_type": "code",
   "execution_count": 13,
   "id": "d976908e",
   "metadata": {},
   "outputs": [],
   "source": [
    "import warnings\n",
    "warnings.filterwarnings('ignore')"
   ]
  },
  {
   "cell_type": "code",
   "execution_count": 14,
   "id": "c64a46a4",
   "metadata": {},
   "outputs": [],
   "source": [
    "# Import necessary modules\n",
    "import math\n",
    "import numpy as np\n",
    "import pandas as pd\n",
    "import matplotlib.pyplot as plt"
   ]
  },
  {
   "cell_type": "code",
   "execution_count": 23,
   "id": "2fff174d",
   "metadata": {},
   "outputs": [],
   "source": [
    "class LinearReg:\n",
    "    def __init__(self):\n",
    "        pass\n",
    "    def fit(self,x,y):\n",
    "        # Let's create all the required variables for the formula\n",
    "        x = np.array(x)\n",
    "        xy = x*y\n",
    "        x_2 = x**2\n",
    "        mean_x = np.mean(x)\n",
    "        mean_y = np.mean(y)\n",
    "        mean_xy = np.mean(xy)\n",
    "        mean_x_2 = np.mean(x_2)\n",
    "        \n",
    "        #Handle division by zero\n",
    "        if mean_x_2 - (mean_x**2) == 0:\n",
    "            raise ValueError('Zero Variance in x')\n",
    "        \n",
    "        #calculate m\n",
    "        self.m = (mean_xy-(mean_x*mean_y))/(mean_x_2 - mean_x**2)\n",
    "        self.b = mean_y - (self.m * mean_x)\n",
    "        \n",
    "    def predict(self, X):\n",
    "        X = np.array(X)\n",
    "        y_pred = self.m*X+self.b\n",
    "        return y_pred"
   ]
  },
  {
   "cell_type": "code",
   "execution_count": 32,
   "id": "292761fb",
   "metadata": {},
   "outputs": [
    {
     "data": {
      "image/png": "[encoded data removed]",
      "text/plain": [
       "<Figure size 432x288 with 1 Axes>"
      ]
     },
     "metadata": {
      "needs_background": "light"
     },
     "output_type": "display_data"
    }
   ],
   "source": [
    "df = pd.read_csv(\"C:\\\\Users\\\\Shah\\\\Downloads\\\\archive (2)\\\\Linear Regression - Sheet1.csv\")\n",
    "ds = df.copy()\n",
    "x = np.array(ds.iloc[:,0])\n",
    "y = np.array(ds.iloc[:,1])\n",
    "plt.scatter(x,y)\n",
    "plt.show()"
   ]
  },
  {
   "cell_type": "code",
   "execution_count": 33,
   "id": "ac96a7c7",
   "metadata": {},
   "outputs": [
    {
     "data": {
      "text/plain": [
       "array([9.24972117])"
      ]
     },
     "execution_count": 33,
     "metadata": {},
     "output_type": "execute_result"
    }
   ],
   "source": [
    "model_1 = LinearReg()\n",
    "model_1.fit(x,y)\n",
    "model_1.predict([3.5654])"
   ]
  },
  {
   "cell_type": "code",
   "execution_count": 34,
   "id": "eecc2cf7",
   "metadata": {},
   "outputs": [
    {
     "data": {
      "text/plain": [
       "array([9.24972117])"
      ]
     },
     "execution_count": 34,
     "metadata": {},
     "output_type": "execute_result"
    }
   ],
   "source": [
    "# Now lets compare it with the SKLEARN module\n",
    "from sklearn.linear_model import LinearRegression\n",
    "x = x.reshape(-1,1) #because here it accepts 2d array in sk learn\n",
    "model_2 = LinearRegression()\n",
    "model_2.fit(x,y)\n",
    "model_2.predict([[3.5654]])"
   ]
  },
  {
   "cell_type": "code",
   "execution_count": null,
   "id": "429fdf6e",
   "metadata": {},
   "outputs": [],
   "source": []
  },
  {
   "cell_type": "code",
   "execution_count": null,
   "id": "eb67a2ad",
   "metadata": {},
   "outputs": [],
   "source": []
  },
  {
   "cell_type": "code",
   "execution_count": null,
   "id": "96c84694",
   "metadata": {},
   "outputs": [],
   "source": []
  }
 ],
 "metadata": {
  "kernelspec": {
   "display_name": "Python 3 (ipykernel)",
   "language": "python",
   "name": "python3"
  },
  "language_info": {
   "codemirror_mode": {
    "name": "ipython",
    "version": 3
   },
   "file_extension": ".py",
   "mimetype": "text/x-python",
   "name": "python",
   "nbconvert_exporter": "python",
   "pygments_lexer": "ipython3",
   "version": "3.9.12"
  }
 },
 "nbformat": 4,
 "nbformat_minor": 5
}
